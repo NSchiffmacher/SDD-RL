{
 "cells": [
  {
   "cell_type": "markdown",
   "id": "af2c7eac-fbff-48e4-abd3-f0fbc8aee546",
   "metadata": {},
   "source": [
    "<a rel=\"license\" href=\"http://creativecommons.org/licenses/by-nc-sa/4.0/\"><img alt=\"Creative Commons License\" align=\"left\" src=\"https://i.creativecommons.org/l/by-nc-sa/4.0/80x15.png\" /></a>&nbsp;| [Emmanuel Rachelson](https://personnel.isae-supaero.fr/emmanuel-rachelson?lang=en) | <a href=\"https://erachelson.github.io/RLclass_MVA/\">https://erachelson.github.io/RLclass_MVA/</a>"
   ]
  },
  {
   "cell_type": "markdown",
   "id": "887122ef-64e7-42f7-b83e-a684377dede3",
   "metadata": {},
   "source": [
    "<div style=\"font-size:22pt; line-height:25pt; font-weight:bold; text-align:center;\">Chapter 6: Monte Carlo policy gradient algorithms</div>"
   ]
  },
  {
   "cell_type": "markdown",
   "id": "f6bf06b7-7e7f-4587-ae8d-656436cc4c15",
   "metadata": {},
   "source": [
    "In this chapter we first depart from the (approximate) dynamic programming framework we have worked with so far. We turn back to a criterion for optimality we introduced in the first chapters, namely the average value of a policy across (starting) states. We explore the question of writing the gradient of this criterion with respect to policy parameters, which leads us to a first formulation of this policy gradient a family of associated algorithms."
   ]
  },
  {
   "cell_type": "markdown",
   "id": "6a3d20f8-d89f-456e-980a-b1a9f2653a42",
   "metadata": {},
   "source": [
    "<div class=\"alert alert-success\">\n",
    "\n",
    "**Learning outcomes**   \n",
    "By the end of this chapter, you should be able to:\n",
    "- recall and explain the policy gradient theorem for infinite horizon problems,\n",
    "- explain the problem of gradient estimate variance and the introduction of baselines,\n",
    "- implement a REINFORCE algorithm for discrete action spaces,\n",
    "- implement an A2C algorithm for discrete action spaces.\n",
    "\n",
    "Additionally, after doing the homework, you should be able to:\n",
    "- use vectorized environments to accelerate sample collection in policy gradient algorithms,\n",
    "- implement REINFORCE and A2C for continuous action spaces,\n",
    "- derive the policy gradient theorem for finite horizon problems,\n",
    "- explain and implement a generalized advantage estimation method within a policy gradient algorithm,\n",
    "- derive the formulation of off-policy policy gradients,\n",
    "- implement natural policy gradients, TRPO and PPO,\n",
    "- explain and implement the \"OpenAI evolution strategy\" and the \"Canonical evolution strategy\" for gradient-free direct policy search.\n",
    "</div>"
   ]
  },
  {
   "cell_type": "markdown",
   "id": "150c60fd-7697-4aee-9e2d-db8b90616e2c",
   "metadata": {},
   "source": [
    "# A Monte Carlo policy gradient estimator\n",
    "\n",
    "Recall the policy optimization objective defined in previous chapters, given a distribution $p_0$ on states:  \n",
    "$$J(\\pi) = \\mathbb{E}_{s \\sim p_0} \\left[ V^{\\pi} (s) \\right].$$\n",
    "Or equivalently:  \n",
    "$$J(\\pi) = \\mathbb{E}_{(s_i,a_i)_{i \\in \\mathbb{N}}} \\left[ \\sum_{t=0}^\\infty \\gamma^t r(s_t,a_t)  | \\pi, p_0 \\right].$$\n",
    "\n",
    "We will write $\\tau = (s_t,a_t)_{t\\in \\mathbb{N}}$ and thus $J(\\pi) = \\mathbb{E}_{\\tau} \\left[ \\sum_{t=0}^\\infty \\gamma^t r(s_t,a_t)  | \\pi, p_0 \\right]$.\n",
    "\n",
    "One could imagine a *finite differences* approach to estimate $\\nabla_\\theta J(\\theta)$, but this would require trying out a series of increments $\\Delta \\theta$ which quickly becomes impractical (because the increment size is hard to tune, especially in stochastic systems, and also because of the sample inefficiency of the approach).\n",
    "\n",
    "Remark:\n",
    "- Let's not discard finite difference methods too quickly. They have their merits and showed great successes through methods such as [PEGASUS (Ng and Jordan, 2000)](https://arxiv.org/abs/1301.3878). Also, having random $\\Delta \\theta$ drawn from a Gaussian distribution is essentially what Evolution Strategies do, and [Salimans et al. (2017)](https://arxiv.org/abs/1703.03864) or [Chrabaszcz et al. (2018)](https://arxiv.org/abs/1802.08842) illustrated how that could be a scalable method to obtain gradient estimates in RL. We won't cover these topics here and leave them as exercises.  \n",
    "\n",
    "The key result of this chapter is that one can express the gradient of $J(\\theta)$ as directly proportional to the value of a trajectory and the gradient of $\\pi$:\n",
    "<div class=\"alert alert-success\">\n",
    "\n",
    "**Monte Carlo policy gradient**  \n",
    "Given trajectories $\\tau=(s_t,a_t)_{t\\in [0,\\infty]}$ drawn according to policy $\\pi$, \n",
    "$$\\nabla_\\theta J(\\theta) = \\mathbb{E}_{\\tau} \\left[ \\sum_{t=0}^\\infty \\gamma^t G_t \\nabla_\\theta \\log \\pi_\\theta(a_t|s_t) \\right],$$\n",
    "where $G_t = G^\\pi(s_t,a_t) = \\sum_{t'\\geq t} \\gamma^{t'-t} r_{t'}$ is the return random variable from the state-action pair visited at time step $t$.\n",
    "</div>\n",
    "\n",
    "The interpretation of this estimator is very straightforward:  \n",
    "To increase the average value of policy $\\pi_\\theta$ over the starting distribution $p_0$, we should change $\\theta$ in a direction that is a linear combination of the $\\nabla_\\theta \\log \\pi(a|s)$, where the coefficients are the expected outcomes $G^\\pi(s,a)$ of picking action $a$ in $s$.  \n",
    "Since $\\nabla_\\theta \\log \\pi(a|s)$ is a direction that increases the log probability of $a$ in $s$, we can rephrase the last sentence. The policy gradient tells us:  \n",
    "**To increase the value of the current policy, we should increase the log-probability of $a$ in $s$ in proportion to the expected outcome of $a$ in $s$.**"
   ]
  },
  {
   "cell_type": "markdown",
   "id": "4fed3fb7-e06c-48f4-afbc-717c92935251",
   "metadata": {},
   "source": [
    "Let us derive this result quite naturally.\n",
    "\n",
    "Let us consider trajectories $\\tau = (s_0,a_0,r_0,...)$ drawn according to $\\pi$ from the starting state. Each of these trajectories has an overall payoff of $G(\\tau) = \\sum_t \\gamma^t r_t$, and is drawn with probability density $p(\\tau|\\theta)$. Then the objective function can be written:\n",
    "\\begin{align}\n",
    "J(\\theta) &= \\mathbb{E}_\\tau \\left[ G(\\tau) | \\theta \\right]\\\\\n",
    " &= \\int G(\\tau) p(\\tau | \\theta) d\\tau\n",
    "\\end{align}\n",
    "\n",
    "So the objective function's gradient is:\n",
    "\\begin{align}\n",
    "\\nabla_\\theta J(\\theta) &= \\nabla_\\theta \\int G(\\tau) p(\\tau|\\theta) d\\tau,\\\\\n",
    " &= \\int G(\\tau) \\nabla_\\theta p(\\tau|\\theta) d\\tau,\\\\\n",
    " &= \\int G(\\tau) p(\\tau|\\theta) \\frac{\\nabla_\\theta p(\\tau|\\theta)}{p(\\tau|\\theta)} d\\tau,\\\\\n",
    " &= \\mathbb{E}_\\tau \\left[ G(\\tau) \\nabla_\\theta \\log p(\\tau|\\theta) \\right].\n",
    "\\end{align}"
   ]
  },
  {
   "cell_type": "markdown",
   "id": "9992e3d5-bc45-4830-b54a-0463d38fae9d",
   "metadata": {},
   "source": [
    "We have used the fact that $\\nabla_\\theta p(\\tau|\\theta) = p(\\tau|\\theta) \\nabla_\\theta \\log p(\\tau|\\theta)$, sometimes known as the *nabla-log* trick.  \n",
    "Let us study the $\\nabla_\\theta \\log p(\\tau|\\theta)$, term along a series of remarks.\n",
    "\n",
    "**Remark 1: law of $s_{t+1},a_{t+1}$ given the policy and history.**  \n",
    "One has $p(s_{t+1},a_{t+1} | (s_i,a_i)_{i \\in [0,t]}, \\theta) = p(s_{t+1} | (s_i,a_i)_{i \\in [0,t]}, \\theta) p(a_{t+1} | s_{t+1}, (s_i,a_i)_{i \\in [0,t]}, \\theta)$.  \n",
    "But the transition model is Markovian, so $p(s_{t+1} | (s_i,a_i)_{i \\in [0,t]}, \\theta) = p(s_{t+1} | s_t, a_t)$.  \n",
    "And the law of $a_{t+1}$ is given by the policy, so $p(a_{t+1} | s_{t+1}, (s_i,a_i)_{i \\in [0,t]}, \\theta) = \\pi_\\theta(a_{t+1}|s_{t+1})$.  \n",
    "Consequently:\n",
    "$$p(s_{t+1},a_{t+1} | (s_i,a_i)_{i \\in [0,t]}, \\theta) = p(s_{t+1} | s_t, a_t) \\pi_\\theta(a_{t+1}|s_{t+1}).$$"
   ]
  },
  {
   "cell_type": "markdown",
   "id": "d1fd6aeb-d089-4a3d-9137-1bcc62fed008",
   "metadata": {},
   "source": [
    "**Remark 2: probability density of a trajectory.**  \n",
    "Recall that $p(\\tau|\\theta) = p((s_t,a_t)_{t\\in [0,\\infty]}|\\theta)$.  \n",
    "This joint probability can be decomposed into conditional probabilities: $$p(\\tau|\\theta) = p(s_0,a_0|\\theta) \\prod_{t=0}^\\infty p(s_{t+1},a_{t+1} | (s_i,a_i)_{i \\in [0,t]}, \\theta).$$ \n",
    "The previous remarks allows us to simplify to: $$p(\\tau|\\theta) = p(s_0,a_0|\\theta) \\prod_{t=0}^\\infty p(s_{t+1} | s_t, a_t) \\pi_\\theta(a_{t+1}|s_{t+1}).$$ \n",
    "By expanding the first term into $p(s_0)\\pi_\\theta(a_0|s_0)$ and reordering the terms inside the product, we obtain:\n",
    "$$p(\\tau|\\theta) = p(s_0) \\prod_{t=0}^\\infty p(s_{t+1} | s_t, a_t) \\pi_\\theta(a_t|s_t).$$"
   ]
  },
  {
   "cell_type": "markdown",
   "id": "336b526e-e059-4503-9fab-fd7d4654d00e",
   "metadata": {},
   "source": [
    "**Remark 3: grad-log-prob of a trajectory.**  \n",
    "Now let us consider the full $\\nabla_\\theta \\log p(\\tau|\\theta)$ term. The previous remarks tell us that  \n",
    "$$\\nabla_\\theta \\log p(\\tau|\\theta) = \\nabla_\\theta \\log p(s_0) + \\sum_{t=0}^\\infty \\left[ \\nabla_\\theta \\log p(s_{t+1} | s_t, a_t) + \\nabla_\\theta \\log \\pi_\\theta(a_t|s_t)\\right].$$\n",
    "But the initial state distribution and the transition model do not depend on $\\theta$, so this expression boils down to:\n",
    "$$\\nabla_\\theta \\log p(\\tau|\\theta) = \\sum_{t=0}^\\infty \\nabla_\\theta \\log \\pi_\\theta(a_t|s_t).$$"
   ]
  },
  {
   "cell_type": "markdown",
   "id": "ae851aff-3088-4e95-bded-eae7668ce2df",
   "metadata": {},
   "source": [
    "So eventually, we have a first version of a policy gradient estimator:\n",
    "<div class=\"alert alert-success\">\n",
    "\n",
    "**Monte Carlo policy gradient (first naive version)**  \n",
    "Given trajectories $\\tau=(s_t,a_t)_{t\\in [0,\\infty]}$ drawn according to policy $\\pi$, and evaluated through a criterion $G(\\tau)$, \n",
    "$$\\nabla_\\theta J(\\theta) = \\mathbb{E}_{\\tau} \\left[ G(\\tau) \\sum_{t=0}^\\infty \\nabla_\\theta \\log \\pi_\\theta(a_t|s_t) \\right].$$\n",
    "</div>\n",
    "\n",
    "This estimator provides a straightforward algorithm. We could play policy $\\pi_\\theta$ from $p_0$, and collect pairs of states and actions $(s,a)$ along trajectories $\\tau$. After each trajectory terminates, we sum the rewards obtained to get $G(\\tau)$, then iterate over all encountered states and actions to sum the $G(\\tau) \\nabla_\\theta \\log \\pi_\\theta(a|s)$ terms. This yields an ascent direction: we can take a stochastic gradient ascent step, and repeat.\n",
    "\n",
    "This estimator is called **Monte Carlo** because it relies on a (Monte Carlo) simulation of $\\pi$ to obtain realizations of $G(\\tau)$, and uses them as weights of $\\nabla \\log \\pi(a|s)$ in each encountered state."
   ]
  },
  {
   "cell_type": "markdown",
   "id": "68429d0b-35fe-479e-aef1-e601e5ac4ae8",
   "metadata": {},
   "source": [
    "**Interpretation**  \n",
    "Let us consider a fixed $s$.  \n",
    "Then $\\nabla_\\theta \\log \\pi_\\theta(a|s)$ is the answer to \"in what direction should I change $\\theta$ to increase the log probability of taking action $a$ in $s$?\".  \n",
    "The expression above tells us that in order to improve the value of $\\pi_\\theta$, we should change $\\theta$ in a direction that is a linear combination of all $\\nabla_\\theta \\pi_\\theta(a|s)$, giving more weight to action $a$ in state $s$ in proportion to the value $G(\\tau)$ of the trajectory they belong too.   \n",
    "In even simpler words: if a trajectory was better than another, its action probabilities should be reinforced (that's not the reason for the name of the algorithm, but it could have been).\n",
    "\n",
    "But we can do a bit better than this estimator."
   ]
  },
  {
   "cell_type": "markdown",
   "id": "4057df39-f866-4e32-837f-869973ab65c5",
   "metadata": {},
   "source": [
    "**Remark 4: the expected grad-log-prob lemma.**  \n",
    "Let us take a step aside and consider the expectation of $\\nabla_\\theta \\log \\pi_\\theta(a|s)$.  \n",
    "In a given $s$:\n",
    "\\begin{align}\n",
    "\\mathbb{E}_{a\\sim \\pi_\\theta(s)} [ \\nabla_\\theta \\log \\pi_\\theta(a|s) ] &= \\int_A \\pi_\\theta(a|s) \\nabla_\\theta \\log \\pi_\\theta(a|s) da\\\\\n",
    " &= \\int_A \\nabla_\\theta \\pi_\\theta(a|s) da\\\\\n",
    " &= \\nabla_\\theta \\int_A \\pi_\\theta(a|s) da\\\\\n",
    " &= \\nabla_\\theta 1\\\\\n",
    " &= 0\n",
    "\\end{align}\n",
    "So we get that: \n",
    "$$\\mathbb{E}_{\\substack{s\\sim\\rho^\\pi \\\\ a\\sim \\pi}} \\left[ \\nabla_\\theta \\log \\pi_\\theta(a|s) \\right] = \\mathbb{E}_{s\\sim\\rho^\\pi} \\left[ \\mathbb{E}_{a\\sim \\pi} \\left[ \\nabla_\\theta \\log \\pi_\\theta(a|s) \\right] \\right] = \\mathbb{E}_{s\\sim\\rho^\\pi} [0]=  0.$$\n",
    "Actually, we can generalize this immediately: we can multiply $\\nabla_\\theta \\log \\pi_\\theta(a|s)$ by anything that does not depend on $a$ and obtain the same result:\n",
    "$$\\mathbb{E}_{\\substack{s\\sim\\rho^\\pi \\\\ a\\sim \\pi}} \\left[ b(s)\\left[ \\nabla_\\theta \\log \\pi_\\theta(a|s) \\right] \\right] = 0.$$\n",
    "This will come in handy in a future section about baselines in policy gradients and will serve as a basis for the exercise on [Generalized Advantage Estimation (Schulman et al., 2016)](https://arxiv.org/abs/1506.02438), but for now it will help us finish improving our policy gradient estimator."
   ]
  },
  {
   "cell_type": "markdown",
   "id": "7cf48d4c-29e0-43f2-8bd1-94048f0e7613",
   "metadata": {},
   "source": [
    "**Back to the policy gradient estimator.**  \n",
    "Let us replace $G(\\tau)$ by its expression in terms of $s_t$ and $a_t$:\n",
    "$$\\nabla_\\theta J(\\theta) = \\mathbb{E}_{(s_i,a_i)_{i\\in \\mathbb{N}}} \\left[ \\left(\\sum_{t=0}^\\infty \\gamma^t r(s_t,a_t) \\right) \\left( \\sum_{t=0}^\\infty \\nabla_\\theta \\log \\pi_\\theta(a_t|s_t) \\right) \\right] .$$\n",
    "\n",
    "$$\\nabla_\\theta J(\\theta) = \\mathbb{E}_{(s_i,a_i)_{i\\in \\mathbb{N}}} \\left[ \\sum_{t=0}^\\infty \\left(\\sum_{t'=0}^\\infty \\gamma^{t'} r(s_{t'},a_{t'}) \\right) \\nabla_\\theta \\log \\pi_\\theta(a_t|s_t) \\right] .$$"
   ]
  },
  {
   "cell_type": "markdown",
   "id": "4eee6c94-c30e-4bb3-b789-f7849226bb78",
   "metadata": {},
   "source": [
    "Let us look at one of the terms under the $\\sum_{t=0}^\\infty$ sum: $\\left( \\sum_{t'=0}^\\infty \\gamma^{t'} r(s_{t'},a_{t'}) \\right) \\nabla_\\theta \\log \\pi_\\theta(a_t|s_t)$.  \n",
    "It seems awkward that $\\nabla_\\theta \\log \\pi_\\theta(a_t|s_t)$ be weighted by rewards that were obtained *before* $t$.  \n",
    "So let us cut the $\\sum_{t'=0}^\\infty$ in two; the rewards obtained up to $t-1$ and those obtained after $t$:\n",
    "\n",
    "$$\\nabla_\\theta J(\\theta) = \\mathbb{E}_{(s_i,a_i)_{i\\in \\mathbb{N}}} \\left[ \\sum_{t=0}^\\infty \\left(\\sum_{t'=0}^{t-1} \\gamma^{t'} r(s_{t'},a_{t'}) + \\sum_{t'=t}^\\infty \\gamma^{t'} r(s_{t'},a_{t'}) \\right) \\nabla_\\theta \\log \\pi_\\theta(a_t|s_t) \\right] .$$\n",
    "\n",
    "Let us develop this sum:\n",
    "$$\\nabla_\\theta J(\\theta) = \\mathbb{E}_{(s_i,a_i)_{i\\in \\mathbb{N}}} \\left[ \\sum_{t=0}^\\infty \\left(\\sum_{t'=0}^{t-1} \\gamma^{t'} r(s_{t'},a_{t'})\\right) \\nabla_\\theta \\log \\pi_\\theta(a_t|s_t) + \\sum_{t=0}^\\infty \\left(\\sum_{t'=t}^\\infty \\gamma^{t'} r(s_{t'},a_{t'}) \\right) \\nabla_\\theta \\log \\pi_\\theta(a_t|s_t) \\right] .$$\n",
    "\n",
    "When we look at the first term in the sum, we remark that $\\sum_{t'=0}^{t-1} \\gamma^{t'} r(s_{t'},a_{t'})$ does not depend on $s_t,a_t$. These are rewards that were obtained in the past, before $t$. By application of the expected grad-log-prob lemma, we have immediately:\n",
    "$$\\mathbb{E}_{(s_i,a_i)_{i\\in \\mathbb{N}}} \\left[ \\sum_{t=0}^\\infty \\left(\\sum_{t'=0}^{t-1} \\gamma^{t'} r(s_{t'},a_{t'})\\right) \\nabla_\\theta \\log \\pi_\\theta(a_t|s_t) \\right] = 0$$"
   ]
  },
  {
   "cell_type": "markdown",
   "id": "08788563-fec1-4374-a606-0d738f7098d7",
   "metadata": {},
   "source": [
    "<details class=\"alert \">\n",
    "    <summary markdown=\"span\"><b>If you are not convinced and want to see the calculation in more detail, click this box to expand it.</b></summary>\n",
    "\n",
    "\\begin{align*}\n",
    "\\mathbb{E}_{(s_i,a_i)_{i\\in \\mathbb{N}}} \\left[ \\sum_{t=0}^\\infty \\left(\\sum_{t'=0}^{t-1} \\gamma^{t'} r(s_{t'},a_{t'})\\right) \\nabla_\\theta \\log \\pi_\\theta(a_t|s_t) \\right] &= \\sum_{t=0}^\\infty \\mathbb{E}_{(s_i,a_i)_{i\\in \\mathbb{N}}} \\left[ \\left(\\sum_{t'=0}^{t-1} \\gamma^{t'} r(s_{t'},a_{t'})\\right) \\nabla_\\theta \\log \\pi_\\theta(a_t|s_t) \\right]\\\\\n",
    " &= \\sum_{t=0}^\\infty \\mathbb{E}_{(s_i,a_i)_{i\\in [0,t]}} \\left[ \\left(\\sum_{t'=0}^{t-1} \\gamma^{t'} r(s_{t'},a_{t'})\\right) \\nabla_\\theta \\log \\pi_\\theta(a_t|s_t) \\right]\\\\\n",
    "  &= \\sum_{t=0}^\\infty \\mathbb{E}_{s_t,a_t | (s_i,a_i)_{i\\in [0,t-1]}} \\left[ \\mathbb{E}_{(s_i,a_i)_{i\\in [0,t-1]}} \\left[ \\sum_{t'=0}^{t-1} \\gamma^{t'} r(s_{t'},a_{t'})\\right] \\nabla_\\theta \\log \\pi_\\theta(a_t|s_t) \\right]\\\\\n",
    "  &= 0\n",
    "\\end{align*}\n",
    "</details>"
   ]
  },
  {
   "cell_type": "markdown",
   "id": "3c6e99fc-fbe8-47d7-ab52-17a7c9df5ce6",
   "metadata": {},
   "source": [
    "So,\n",
    "$$\\nabla_\\theta J(\\theta) = \\mathbb{E}_{(s_i,a_i)_{i\\in \\mathbb{N}}} \\left[ \\sum_{t=0}^\\infty \\left(\\sum_{t'=t}^\\infty \\gamma^{t'} r(s_{t'},a_{t'}) \\right) \\nabla_\\theta \\log \\pi_\\theta(a_t|s_t) \\right] .$$\n",
    "\n",
    "And, factoring out the $\\gamma^t$,\n",
    "$$\\nabla_\\theta J(\\theta) = \\mathbb{E}_{(s_i,a_i)_{i\\in \\mathbb{N}}} \\left[ \\sum_{t=0}^\\infty \\gamma^t \\left(\\sum_{t'=t}^\\infty \\gamma^{t'-t} r(s_{t'},a_{t'}) \\right) \\nabla_\\theta \\log \\pi_\\theta(a_t|s_t) \\right] .$$\n",
    "\n",
    "At this stage, it is important to recognize the random variable $G^\\pi(s)$ in this expression. Indeed, the sum $\\sum_{t'=t}^\\infty \\gamma^{t'-t} r(s_{t'},a_{t'})$ is exactly $G^\\pi(s_t)$. Similarly, one can recognize $G^\\pi(s,a)$, keeping in mind that $a$ is drawn according to $\\pi(s)$ anyway.\n",
    "\n",
    "This yields a finer expression for the policy gradient.\n",
    "\n",
    "<div class=\"alert alert-success\">\n",
    "\n",
    "**Monte Carlo policy gradient**  \n",
    "Given trajectories $\\tau=(s_t,a_t)_{t\\in [0,\\infty]}$ drawn according to policy $\\pi$, \n",
    "$$\\nabla_\\theta J(\\theta) = \\mathbb{E}_{\\tau} \\left[ \\sum_{t=0}^\\infty \\gamma^t G_t \\nabla_\\theta \\log \\pi_\\theta(a_t|s_t) \\right],$$\n",
    "where $G_t = G^\\pi(s_t,a_t) = \\sum_{t'\\geq t} \\gamma^{t'-t} r_{t'}$ is the return random variable from the state-action pair visited at time step $t$\n",
    "</div>\n",
    "\n",
    "This estimator is called **Monte Carlo** because it relies on a (Monte Carlo) simulation of $\\pi$ to obtain realizations of $G^\\pi(s,\\pi(s))$ in the states visited by $\\pi$, and then uses these realizations as weights of $\\nabla \\log \\pi(a|s)$ in each encountered $(s,a)$ pair."
   ]
  },
  {
   "cell_type": "markdown",
   "id": "57e64603-1355-430d-ad03-66fe804d1517",
   "metadata": {},
   "source": [
    "**Interpretation**  \n",
    "Let us rephrase and refine the previous interpretation.  \n",
    "Consider a fixed $s$. Then (again) $\\nabla_\\theta \\log \\pi(a|s)$ is the answer to \"in what direction should I change $\\theta$ to increase the log probability of taking action $a$ in $s$?\".   \n",
    "The expression above tells us that in order to improve the value of $\\pi_\\theta$, we should change $\\theta$ in a direction that is a linear combination of all $\\nabla_\\theta \\log\\pi(a|s)$, giving more weight to actions that provided large realizations of $G^\\pi(s,\\pi(s))$. \n",
    "\n",
    "We can push the interpretation of $\\nabla_\\theta \\log \\pi(a|s) = \\frac{\\nabla_\\theta \\pi(a|s)}{\\pi(a|s)}$ a bit further. $\\nabla_\\theta \\pi(a_t|s_t)$ is a vector in parameter space that points in the direction of greatest increase of $\\pi(a|s)$. The update will encourage taking a step in this direction if the action provided high return (through $G^\\pi(s,\\pi(s))$), but moving in this direction will be moderated if the action is already picked frequently (through $\\pi(a|s)$) so that other actions have a chance also."
   ]
  },
  {
   "cell_type": "markdown",
   "id": "7b455538-de3b-4b9b-a4e5-1783f3dd7acd",
   "metadata": {},
   "source": [
    "# REINFORCE\n",
    "\n",
    "To compute the gradient estimator introduced previously, we can run the policy within the environment, and this will provide us with trajectories of states and actions following the distribution of $\\tau$ under $\\pi$. The full trajectory of states-actions-rewards provides a Monte Carlo estimate $G_t$ of $G^\\pi(s_t,a_t)$ from any state-action pair $(s_t,a_t)$ traversed by the trajectory. In turn, this allows to estimate $G_t \\nabla_\\theta \\log \\pi(a_t|s_t)$ for any of these pair. The sum over all states provides the gradient estimate.\n",
    "\n",
    "This algorithm, introduced by [Williams (1992)](https://link.springer.com/article/10.1007/BF00992696) is called REINFORCE. It requires a finite-length trajectory and its pseudo-code goes as follows.\n",
    "1. Initialize policy parameter $\\theta$\n",
    "2. Generate a trajectory by playing $\\pi$: $s_0,a_0,r_0,...s_{T}$\n",
    "3. For $t\\in [1, 2, … , T]$:\n",
    "    1. Estimate return $G_t$\n",
    "    2. Update policy parameter: $\\theta \\leftarrow \\theta + \\alpha \\gamma^t G_t \\nabla_\\theta \\log \\pi(a_t|s_t)$\n",
    "\n",
    "Historial note: REINFORCE is not just about \"reinforcing good trajectories\", it is an acronym that actually stands for \"REward Increment = Nonnegative Factor x Offset Reinforcement x Characteristic Eligibility\"."
   ]
  },
  {
   "cell_type": "markdown",
   "id": "d01b69a0-10b7-44a1-8ae1-2f6bf2236170",
   "metadata": {},
   "source": [
    "Modern deep learning libraries don't take gradients as inputs. Instead, they use automated differentiation to compute them for a given expression, given a batch of samples. So we would like to build an objective function such that its gradient estimated on the minibatch composed of the last trajectory's samples $(s,a)$ corresponds to the expression above.\n",
    "\n",
    "So we want to define $\\ell(\\theta)$ such that $-\\nabla_\\theta \\mathbb{E}_{s,a} \\left[ \\ell(\\theta,s,a) \\right]$ coincides with $\\nabla_\\theta J(\\theta)$. Note that, computationally, the $\\gamma^t G_t$ terms are just coefficients in the gradient estimate. So, very simply, taking $\\ell(\\theta) = q(s,a) \\cdot  \\log \\pi(a|s)$ achieves this goal as long as $q(s,a)$ matches the value of $\\gamma^t G_t$. \n",
    "\n",
    "**Super important remark: the loss is not a performance metric.**  \n",
    "In supervised learning, it is a common practice to monitor the empirical risk along training. \n",
    "But $L(\\theta) = -\\mathbb{E}_{\\substack{s\\sim\\rho^\\pi \\\\ a\\sim \\pi}} \\left[ \\ell(\\theta,s,a) \\right]$ is not comparable to the losses one usually encounters in supervised learning in any way!  \n",
    "In particular, $-L(\\theta) \\neq J(\\theta)$. So it makes absolutely no sense monitoring the value of this artificial \"loss\" function along training, and even less interpreting its value as some performance metric. It is *just* an expression whose gradient coincides with the (opposite of the) policy gradient.\n",
    "\n",
    "**On sample efficiency.**  \n",
    "One key feature of policy gradient algorithms is that they are on-policy: they require the data to have been collected by the current policy, and discard this data once a gradient step is taken. Although this might seem sample inefficient, it can turn out to be an acceptable compromise if the policy gradient steps take the policy towards good returns quickly enough."
   ]
  },
  {
   "cell_type": "markdown",
   "id": "91550080-e2b1-44d0-817b-8b78580fa619",
   "metadata": {},
   "source": [
    "Let's implement REINFORCE for discrete action spaces.\n",
    "<div class=\"alert alert-warning\">\n",
    "    \n",
    "**Exercise:**  \n",
    "Declare a neural network approximator for a categorical distribution for $\\pi(a|s)$.  \n",
    "The `forward` method should output action probabilities.  \n",
    "Define a `sample_action` method that draws from the actions probabilities in state $s$.  \n",
    "Define a `log_prob` method that returns the log probability of an $(s,a)$ pair.\n",
    "</div>"
   ]
  },
  {
   "cell_type": "code",
   "execution_count": 1,
   "id": "77f71429-6009-4ad3-842d-7ce51919a13a",
   "metadata": {},
   "outputs": [
    {
     "name": "stderr",
     "output_type": "stream",
     "text": [
      "/home/emmanuel/anaconda3/lib/python3.12/site-packages/torch/cuda/__init__.py:129: UserWarning: CUDA initialization: The NVIDIA driver on your system is too old (found version 11040). Please update your GPU driver by downloading and installing a new version from the URL: http://www.nvidia.com/Download/index.aspx Alternatively, go to: https://pytorch.org to install a PyTorch version that has been compiled with your version of the CUDA driver. (Triggered internally at ../c10/cuda/CUDAFunctions.cpp:108.)\n",
      "  return torch._C._cuda_getDeviceCount() > 0\n"
     ]
    }
   ],
   "source": [
    "import torch\n",
    "import torch.nn as nn\n",
    "import torch.nn.functional as F\n",
    "from torch.distributions import Categorical\n",
    "\n",
    "device = torch.device(\"cuda\" if torch.cuda.is_available() else \"cpu\")\n",
    "\n",
    "class policyNetwork(nn.Module):\n",
    "    def __init__(self, env):\n",
    "        super().__init__()\n",
    "        state_dim = env.observation_space.shape[0]\n",
    "        n_action = env.action_space.n\n",
    "        self.fc1 = nn.Linear(state_dim, 128)\n",
    "        self.fc2 = nn.Linear(128, n_action)\n",
    "\n",
    "    def forward(self, x):\n",
    "        if x.dim() == 1:\n",
    "            x = x.unsqueeze(dim=0)\n",
    "        x = F.relu(self.fc1(x))\n",
    "        action_scores = self.fc2(x)\n",
    "        return F.softmax(action_scores,dim=1)\n",
    "\n",
    "    def sample_action(self, x):\n",
    "        probabilities = self.forward(x)\n",
    "        action_distribution = Categorical(probabilities)\n",
    "        return action_distribution.sample().item()\n",
    "\n",
    "    def log_prob(self, x, a):\n",
    "        probabilities = self.forward(x)\n",
    "        action_distribution = Categorical(probabilities)\n",
    "        return action_distribution.log_prob(a)"
   ]
  },
  {
   "cell_type": "markdown",
   "id": "57f4dd14-c15b-4937-8c5f-90511d27b57e",
   "metadata": {},
   "source": [
    "<div class=\"alert alert-warning\">\n",
    "    \n",
    "**Exercise:**  \n",
    "Define a class that implements REINFORCE. Instead of drawing a single trajectory as in the pseudo-code above, include an option to draw several trajectories with the same policy. This will better the distribution of $\\tau$ and provide less noisy gradients.\n",
    "</div>"
   ]
  },
  {
   "cell_type": "code",
   "execution_count": 5,
   "id": "760f6951-aba0-42e5-9fd8-ff3bfd43a6ec",
   "metadata": {},
   "outputs": [],
   "source": [
    "import numpy as np\n",
    "import torch\n",
    "import torch.nn as nn\n",
    "import torch.nn.functional as F\n",
    "from tqdm import trange\n",
    "\n",
    "class reinforce_agent:\n",
    "    def __init__(self, config, policy_network):\n",
    "        self.device = \"cuda\" if next(policy_network.parameters()).is_cuda else \"cpu\"\n",
    "        self.scalar_dtype = next(policy_network.parameters()).dtype\n",
    "        self.policy = policy_network\n",
    "        self.gamma = config['gamma'] if 'gamma' in config.keys() else 0.99\n",
    "        lr = config['learning_rate'] if 'learning_rate' in config.keys() else 0.001\n",
    "        self.optimizer = torch.optim.Adam(list(self.policy.parameters()),lr=lr)\n",
    "        self.nb_episodes_per_gradient_step = config['nb_episodes_per_gradient_step'] if 'nb_episodes_per_gradient_step' in config.keys() else 1\n",
    "    \n",
    "    def one_gradient_step(self, env):\n",
    "        # run trajectories until done\n",
    "        episodes_sum_of_rewards = []\n",
    "        states = []\n",
    "        actions = []\n",
    "        coeffs = []\n",
    "        for ep in range(self.nb_episodes_per_gradient_step):\n",
    "            x,_ = env.reset()\n",
    "            rewards = []\n",
    "            episode_cum_reward = 0\n",
    "            while(True):\n",
    "                a = self.policy.sample_action(torch.as_tensor(x))\n",
    "                y,r,done,trunc,_ = env.step(a)\n",
    "                states.append(x)\n",
    "                actions.append(a)\n",
    "                rewards.append(r)\n",
    "                episode_cum_reward += r\n",
    "                x=y\n",
    "                if done: \n",
    "                    # The condition above should actually be \"done or trunc\" so that we \n",
    "                    # terminate the rollout also if trunc=True.\n",
    "                    # But then, our return-to-go computation would be biased as we would \n",
    "                    # implicitly assume no rewards can be obtained after truncation, which \n",
    "                    # is wrong.\n",
    "                    # We leave it as is for now (which means we will call .step() even \n",
    "                    # after trunc=True) and will discuss it later.\n",
    "                    # Compute returns-to-go\n",
    "                    discounted_returns = []\n",
    "                    G_t = 0\n",
    "                    for t,r in reversed(list(enumerate(rewards))):\n",
    "                        G_t = r + self.gamma * G_t\n",
    "                        discounted_returns.append(self.gamma**t * G_t)\n",
    "                    discounted_returns = list(reversed(discounted_returns))\n",
    "                    coeffs.extend(discounted_returns)\n",
    "                    episodes_sum_of_rewards.append(episode_cum_reward)\n",
    "                    break\n",
    "        # make loss\n",
    "        coeffs = torch.tensor(coeffs)\n",
    "        log_prob = self.policy.log_prob(torch.as_tensor(np.array(states)),torch.as_tensor(np.array(actions)))\n",
    "        loss = -(coeffs * log_prob).mean()\n",
    "        # gradient step\n",
    "        self.optimizer.zero_grad()\n",
    "        loss.backward()\n",
    "        self.optimizer.step()\n",
    "        return np.mean(episodes_sum_of_rewards)\n",
    "\n",
    "    def train(self, env, nb_gradient_steps):\n",
    "        avg_sum_rewards = []\n",
    "        for ep in trange(nb_gradient_steps):\n",
    "            avg_sum_rewards.append(self.one_gradient_step(env))\n",
    "        return avg_sum_rewards"
   ]
  },
  {
   "cell_type": "markdown",
   "id": "41c7c7a8-3cd7-4294-aaeb-62c0f42e248f",
   "metadata": {},
   "source": [
    "<div class=\"alert alert-warning\">\n",
    "    \n",
    "**Exercise:**  \n",
    "Run your agent for 50 gradient steps on `CartPole-v1`, drawing 10 episodes at each step.  \n",
    "Experiment with another number of episodes and vary the gradient step size.\n",
    "</div>"
   ]
  },
  {
   "cell_type": "code",
   "execution_count": 9,
   "id": "51a0c209-97bd-49fd-9dad-c08d6abb3a62",
   "metadata": {},
   "outputs": [
    {
     "name": "stderr",
     "output_type": "stream",
     "text": [
      "100%|██████████| 50/50 [00:31<00:00,  1.56it/s]\n"
     ]
    },
    {
     "data": {
      "text/plain": [
       "[<matplotlib.lines.Line2D at 0x7f239eeade20>]"
      ]
     },
     "execution_count": 9,
     "metadata": {},
     "output_type": "execute_result"
    },
    {
     "data": {
      "image/png": "[encoded data removed]",
      "text/plain": [
       "<Figure size 640x480 with 1 Axes>"
      ]
     },
     "metadata": {},
     "output_type": "display_data"
    }
   ],
   "source": [
    "import gymnasium as gym\n",
    "import matplotlib.pyplot as plt\n",
    "\n",
    "#env = gym.make(\"LunarLander-v2\", render_mode=\"rgb_array\")\n",
    "env = gym.make('CartPole-v1', render_mode=\"rgb_array\")\n",
    "config = {'gamma': .99,\n",
    "          'learning_rate': 0.01,\n",
    "          'nb_episodes_per_gradient_step': 10\n",
    "         }\n",
    "\n",
    "pi = policyNetwork(env)\n",
    "agent = reinforce_agent(config, pi)\n",
    "returns = agent.train(env,50)\n",
    "plt.plot(returns)"
   ]
  },
  {
   "cell_type": "code",
   "execution_count": 10,
   "id": "0827e2da-5f69-4723-81ab-c2be40317fcd",
   "metadata": {},
   "outputs": [],
   "source": [
    "import gymnasium as gym\n",
    "from gymnasium.utils.save_video import save_video\n",
    "\n",
    "#test_env = gym.make(\"LunarLander-v2\", render_mode=\"rgb_array_list\")\n",
    "test_env = gym.make(\"CartPole-v1\", render_mode=\"rgb_array_list\")\n",
    "s,_ = test_env.reset()\n",
    "with torch.no_grad():\n",
    "    for t in range(1000):\n",
    "        a = pi.sample_action(torch.as_tensor(s))\n",
    "        s2,r,d,trunc,_ = test_env.step(a)\n",
    "        s = s2\n",
    "        if d:\n",
    "            break\n",
    "\n",
    "save_video(test_env.render(), \"videos\", fps=test_env.metadata[\"render_fps\"], name_prefix=\"reinforce_policy\")"
   ]
  },
  {
   "cell_type": "code",
   "execution_count": 11,
   "id": "e8c1aed4-e7b1-45e8-af8f-19bd26157b0d",
   "metadata": {},
   "outputs": [
    {
     "data": {
      "text/html": [
       "<video src=\"videos/reinforce_policy-episode-0.mp4\" controls  >\n",
       "      Your browser does not support the <code>video</code> element.\n",
       "    </video>"
      ],
      "text/plain": [
       "<IPython.core.display.Video object>"
      ]
     },
     "execution_count": 11,
     "metadata": {},
     "output_type": "execute_result"
    }
   ],
   "source": [
    "from IPython.display import Video\n",
    "Video(\"videos/reinforce_policy-episode-0.mp4\")"
   ]
  },
  {
   "cell_type": "markdown",
   "id": "477711f2-0f4b-4375-83dc-cf35a3b7ffc5",
   "metadata": {},
   "source": [
    "**Comment on the behavior of policy gradient methods (based on the CartPole example).**\n",
    "\n",
    "One very interesting feature of policy gradient methods, compared to dynamic programming ones, is that they take a somewhat more pragmatic  and easier approach at policy improvement.\n",
    "\n",
    "Policy gradients make the policy better by reinforcing good actions in visited states, and discouraging actions that led to bad outcomes. In CartPole, this means that exiting the screen on either side will be penalized as much as falling. This happens quite early in the optimization process: as soon as the policy balances the pole, it starts to drift towards the sides of the screen, gets this negative reward, and hence reinforces actions that keep the cart within the screen (the fact that we draw several trajectories for each policy helps a lot for that matter since it enables comparing different actions and reinforcing the ones which belonged to better trajectories).\n",
    "\n",
    "Converserly, maybe you remember DQN did a great job at quickly learning how to balance the pole, but wasn't so great at avoiding drifting to the edges of the screen. The key difference is that DQN stored all past experience, and that exiting from the side ended up being a rather rare situation within the replay buffer. Also, DQN needed to propagate these bad rewards through the value function (a task greatly enhanced by methods like prioritized experience replay), which is done immediately in REINFORCE because $G_t$ is a Monte Carlo estimator, not a TD(0) one.\n",
    "\n",
    "So maybe, with ADP methods, we had set up a task that was excessively difficult. The ADP approach is elegant and sample efficient (it retains a long-term memory of samples and solves for the optimal $Q$ value for *all* state and action pairs. But maybe this was more than what was necessary: a local search among policy parameters, without retaining a memory of past experience, but instead local comparison of trajectories and reinforcement of good ones, might be sufficient to achieve efficient learning."
   ]
  },
  {
   "cell_type": "markdown",
   "id": "91544b34-5c06-45d5-9424-46b4916afafc",
   "metadata": {},
   "source": [
    "<div class=\"alert alert-warning\">\n",
    "    \n",
    "**Exercise:**  \n",
    "The code above is slightly inefficient as it passes each state through the network twice: one when drawing the action (`sample_action`), the other when computing log probabilities (`log_prob`). This is not critical as the latter is a batched version of this forward pass, but still, we can optimize this a bit. Make this a bit more elegant by writing a `sample_action_and_log_prob` function in the `reinforce_agent` class, which jointly draws the action and computes its log probability, enabling storing the log probabilities along training.\n",
    "</div>"
   ]
  },
  {
   "cell_type": "code",
   "execution_count": 18,
   "id": "1d797ec8-ab32-4779-86de-714055e0befc",
   "metadata": {},
   "outputs": [],
   "source": [
    "import numpy as np\n",
    "import torch\n",
    "import torch.nn as nn\n",
    "import torch.nn.functional as F\n",
    "from tqdm import trange\n",
    "\n",
    "class reinforce_agent:\n",
    "    def __init__(self, config, policy_network):\n",
    "        self.device = \"cuda\" if next(policy_network.parameters()).is_cuda else \"cpu\"\n",
    "        self.scalar_dtype = next(policy_network.parameters()).dtype\n",
    "        self.policy = policy_network\n",
    "        self.gamma = config['gamma'] if 'gamma' in config.keys() else 0.99\n",
    "        lr = config['learning_rate'] if 'learning_rate' in config.keys() else 0.001\n",
    "        self.optimizer = torch.optim.Adam(list(self.policy.parameters()),lr=lr)\n",
    "        self.nb_episodes_per_gradient_step = config['nb_episodes_per_gradient_step'] if 'nb_episodes_per_gradient_step' in config.keys() else 1\n",
    "\n",
    "    def sample_action_and_log_prob(self, x):\n",
    "        probabilities = self.policy(torch.as_tensor(x))\n",
    "        action_distribution = Categorical(probabilities)\n",
    "        action = action_distribution.sample()\n",
    "        log_prob = action_distribution.log_prob(action)\n",
    "        return action.item(), log_prob\n",
    "    \n",
    "    def one_gradient_step(self, env):\n",
    "        # run trajectories until done\n",
    "        episodes_sum_of_rewards = []\n",
    "        log_probs = []\n",
    "        coeffs = []\n",
    "        for ep in range(self.nb_episodes_per_gradient_step):\n",
    "            x,_ = env.reset()\n",
    "            rewards = []\n",
    "            episode_cum_reward = 0\n",
    "            while(True):\n",
    "                a, log_prob = self.sample_action_and_log_prob(x)\n",
    "                y,r,d,_,_ = env.step(a)\n",
    "                log_probs.append(log_prob)\n",
    "                rewards.append(r)\n",
    "                episode_cum_reward += r\n",
    "                x=y\n",
    "                if d:\n",
    "                    # compute returns-to-go\n",
    "                    discounted_returns = []\n",
    "                    G_t = 0\n",
    "                    for t,r in reversed(list(enumerate(rewards))):\n",
    "                        G_t = r + self.gamma * G_t\n",
    "                        discounted_returns.append(self.gamma**t * G_t)\n",
    "                    discounted_returns = list(reversed(discounted_returns))\n",
    "                    coeffs.extend(discounted_returns)\n",
    "                    episodes_sum_of_rewards.append(episode_cum_reward)\n",
    "                    break\n",
    "        # make loss\n",
    "        coeffs = torch.tensor(coeffs)\n",
    "        log_probs = torch.cat(log_probs)\n",
    "        loss = -(coeffs * log_probs).mean()\n",
    "        # gradient step\n",
    "        self.optimizer.zero_grad()\n",
    "        loss.backward()\n",
    "        self.optimizer.step()\n",
    "        return np.mean(episodes_sum_of_rewards)\n",
    "\n",
    "    def train(self, env, nb_gradient_steps):\n",
    "        avg_sum_rewards = []\n",
    "        for ep in trange(nb_gradient_steps):\n",
    "            avg_sum_rewards.append(self.one_gradient_step(env))\n",
    "        return avg_sum_rewards"
   ]
  },
  {
   "cell_type": "code",
   "execution_count": 19,
   "id": "c3684a5e-5e6e-4132-9267-9745c2e46a9c",
   "metadata": {},
   "outputs": [
    {
     "name": "stderr",
     "output_type": "stream",
     "text": [
      "100%|██████████| 50/50 [00:40<00:00,  1.23it/s]\n"
     ]
    },
    {
     "data": {
      "text/plain": [
       "[<matplotlib.lines.Line2D at 0x7f23971d0ad0>]"
      ]
     },
     "execution_count": 19,
     "metadata": {},
     "output_type": "execute_result"
    },
    {
     "data": {
      "image/png": "[encoded data removed]",
      "text/plain": [
       "<Figure size 640x480 with 1 Axes>"
      ]
     },
     "metadata": {},
     "output_type": "display_data"
    }
   ],
   "source": [
    "import gymnasium as gym\n",
    "import matplotlib.pyplot as plt\n",
    "\n",
    "#env = gym.make(\"LunarLander-v2\", render_mode=\"rgb_array\")\n",
    "env = gym.make('CartPole-v1', render_mode=\"rgb_array\")\n",
    "config = {'gamma': .99,\n",
    "          'learning_rate': 0.01,\n",
    "          'nb_episodes_per_gradient_step': 10\n",
    "         }\n",
    "\n",
    "pi = policyNetwork(env)\n",
    "agent = reinforce_agent(config, pi)\n",
    "returns = agent.train(env,50)\n",
    "plt.plot(returns)"
   ]
  },
  {
   "cell_type": "markdown",
   "id": "5abb18f8-66b4-4d78-bbe2-7a77269774d4",
   "metadata": {},
   "source": [
    "**The problem of rollout terminations.**\n",
    "\n",
    "One weakness of REINFORCE is that it requires trajectories that terminate in finite time. This was reasonable enough in the previous example as we let the environment run until `done=True`, but this does not happen in all MDPs. Some environments have no particular termination condition. When we instantiate such environments, we generally set a time limit, but this does not constitute a termination condition, rather a trajectory truncation one. In particular, a Monte Carlo estimate of $\\mathbb{E}[G^\\pi(s,a)]$ based on a truncated trajectory might be very biased if $s,a$ is encountered at a time step close to the time limit.\n",
    "\n",
    "With this problem, we reach the limit of Monte Carlo evaluations. In previous chapters, to counter this problem, we have introduced value function estimators and bootstrapping (TD learning of Q-functions being the off-policy, 1-step bootstraping version)."
   ]
  },
  {
   "cell_type": "markdown",
   "id": "bb015050-8c21-4bb6-81b0-91a9fb0e4869",
   "metadata": {},
   "source": [
    "# Actor-critic algorithms\n",
    "\n",
    "## Introducing a critic\n",
    "\n",
    "Recall that REINFORCE uses a Monte Carlo estimate of the policy gradient. With a slight notation abuse, we have:\n",
    "<div class=\"alert alert-success\">\n",
    "\n",
    "**REINFORCE:**\n",
    "$$\\tilde{\\nabla}_\\theta J(\\theta) = \\mathbb{E}_{\\tau} \\left[ G_t \\nabla_\\theta \\log\\pi(a|s)\\right]$$\n",
    "</div>\n",
    "\n",
    "**Actor-critic algorithms**  \n",
    "Suppose now that we don't want a Monte Carlo estimate of $Q^\\pi(s,a)$ in the Policy Gradient theorem, and are rather willing to store a function approximator $Q_w$ for $Q^\\pi(s,a)$. This leads us to store both a policy $\\pi_\\theta$ and a value function $Q_w$. The value function *criticizes* the policy's selected actions by assigning numerical values to them, hence the names of *critic* and *actor*. So actor-critic algorithms are policy gradient algorithms that use an actor-critic architecture (remember: the opposite is not necessarily true).\n",
    "\n",
    "The $Q_w$ function of the critic can be learned as a risk minimization problem (eg. a least squares fitting problem), using temporal differences. Note that although this learning is off-policy, the data collection for the application of the policy gradient theorem still requires on-policy data.\n",
    "\n",
    "This defines the Q actor-critic algorithm:\n",
    "<div class=\"alert alert-success\">\n",
    "\n",
    "**Q actor-critic:**\n",
    "$$\\tilde{\\nabla}_\\theta J(\\theta) = \\mathbb{E}_{\\substack{s\\sim\\rho^\\pi \\\\ a\\sim \\pi}} \\left[ Q_w(s,a) \\nabla_\\theta \\log\\pi(a|s)\\right]$$\n",
    "</div>"
   ]
  },
  {
   "cell_type": "markdown",
   "id": "495bd5f9-446b-49d1-9f55-3b59543cdf5a",
   "metadata": {},
   "source": [
    "## Baselines in policy gradients"
   ]
  },
  {
   "cell_type": "markdown",
   "id": "e3a8ca6f-0bb6-4ad3-89b7-6b3948522871",
   "metadata": {},
   "source": [
    "**Finite sample gradient estimator variance**\n",
    "\n",
    "The policy gradient features a somehow counter-intuitive property for finite sample estimators.  \n",
    "Suppose we have a 3 time steps trajectory, drawn following $\\pi$, with, $G_0 = 1$, $\\gamma G_1 = 10$, and $\\gamma^2 G_2 = 1$.\n",
    "\n",
    "For the sake of brevity, let's write $\\nabla_i = \\nabla_\\theta \\log \\pi(a_i|s_i)$. \n",
    "So the finite sample Monte Carlo estimator for $\\nabla_\\theta J(\\theta)$ is:\n",
    "$$1\\nabla_0 + 10\\nabla_1 + 1\\nabla_2.$$\n",
    "\n",
    "Following this update of $\\theta$, we will hopefully see trajectories go through $s_1,a_1$ a lot more often, and through $s_0,a_0$ and $s_2,a_2$ a little bit more often.\n",
    "\n",
    "Now recall the expected grad-log-prob lemma: we can substract any action-independent *baseline* $b(s)$ from the realization of $G^\\pi(s,a)$ and still obtain an unbiased estimate of $\\nabla_\\theta J(\\theta)$, because $\\mathbb{E}_{\\tau} \\left[b(s) \\nabla_\\theta \\log\\pi(a|s) \\right]=0$:\n",
    "$$\\nabla_\\theta J(\\theta) \\propto \\mathbb{E}_{\\tau} \\left[ \\left( \\gamma^t G_t -b(s) \\right) \\nabla_\\theta \\log\\pi(a|s)\\right].$$\n",
    "\n",
    "Let's add a constant value of $b(s)=-1$ to all returns. Then our finite sample estimate becomes:\n",
    "$$9\\nabla_1.$$\n",
    "Let's use $b(s)=-10$.  Then our estimated ascent direction is:\n",
    "$$-9\\nabla_0 -9\\nabla_2.$$\n",
    "Conversely, let's add 20 to all returns. Then the estimate gradient is:\n",
    "$$21 \\nabla_0 + 30\\nabla_1 + 21\\nabla_2.$$\n",
    "\n",
    "We have not changed our MDP, nor our policy, but the gradient estimate is drastically different, both in norm and in direction! So what has happened?\n",
    "\n",
    "What has happened is that we have a **finite** sample of states and actions. The baseline $b(s)$ does not affect the gradient estimate's average in the limit of **infinite** sampling. But depending on the baseline's value, the finite sample estimator will have more or less **variance**.\n",
    "\n",
    "In the previous example, if we augment the probability of $a$ in a given $s$, then we need to decrease it for another $a'$. If this other $a'$ has not been sampled, then its $\\nabla\\theta \\log\\pi_\\theta(a'|s)$ cannot participate in the estimated ascent direction which might be off just because it strongly depends on which sample set was drawn.\n",
    "\n",
    "Ideally, we would like to find a baseline which minimizes variance of the estimator, so that whatever finite sample set we draw, we have a good chance of having a good quality gradient estimate."
   ]
  },
  {
   "cell_type": "markdown",
   "id": "42143dbb-d19f-4172-82f8-49465c30d47d",
   "metadata": {},
   "source": [
    "**An optimal baseline?**\n",
    "\n",
    "Let's search for an optimal baseline $b(s)$ in each state, by writing the variance of the gradient estimate. In each state $s$, we write:\n",
    "$$d(s) = \\mathbb{E}_{a\\sim \\pi} \\left[ \\left( Q^\\pi(s,a) - b(s) \\right) \\nabla_\\theta \\log\\pi(a|s)\\right].$$\n",
    "As stated before, the estimated ascent direction is $\\mathbb{E}_{s\\sim \\rho^\\pi} [d(s)]$.\n",
    "\n",
    "To simplify notations, we will drop all mentions of $s$ ($s$ is fixed), and will write $\\nabla(a)$ for $\\nabla_\\theta \\log\\pi(a|s)$. Let us define a proxy for the variance of vector $d$:\n",
    "$$Var[d] = \\mathbb{E}_{a\\sim \\pi} \\left[ \\left( Q^\\pi(a)-b \\right)^2 \\nabla(a)^2 \\right] - \\left[ \\mathbb{E}_{a\\sim \\pi} \\left[ \\left( Q^\\pi(a)-b \\right) \\nabla(a) \\right] \\right]^2.$$\n",
    "(this is related to the trace of the covariance matrix but we won't go into details on that for now)\n",
    "\n",
    "We wish to find $b$ that minimizes $Var[d]$. A first remark is that the second term is actually equal to $\\left[ \\mathbb{E}_{a\\sim \\pi} \\left[ \\left( Q^\\pi(a) \\right) \\nabla(a) \\right] \\right]^2$ and does not depend on $b$. We get that:\n",
    "\\begin{align*}\n",
    "\\frac{\\mathrm{d} Var[d]}{\\mathrm{d}b} &= \\frac{\\mathrm{d}}{\\mathrm{d}b} \\mathbb{E}_{a\\sim \\pi} \\left[ \\left( Q^\\pi(a)-b \\right)^2 \\nabla(a)^2 \\right],\\\\\n",
    " &= \\frac{\\mathrm{d}}{\\mathrm{d}b} \\Big[\\mathbb{E}_{a\\sim \\pi} \\left[Q^\\pi(a)^2 \\nabla(a)^2\\right] -2 b\\mathbb{E}_{a\\sim \\pi} \\left[Q^\\pi(a) \\nabla(a)\\right] + b^2 \\mathbb{E}_{a\\sim \\pi} \\left[\\nabla(a)^2\\right] \\Big],\\\\\n",
    " &= -2 \\mathbb{E}_{a\\sim \\pi} \\left[Q^\\pi(a) \\nabla(a)^2\\right] + 2 \\mathbb{E}_{a\\sim \\pi} \\left[b\\nabla(a)^2\\right].\n",
    "\\end{align*}\n",
    "\n",
    "And so the value that cancels this gradient is:\n",
    "$$b = \\frac{\\mathbb{E}_{a\\sim \\pi} \\left[Q^\\pi(a) \\nabla(a)^2\\right]}{\\mathbb{E}_{a\\sim \\pi} \\left[\\nabla(a)^2\\right]}.$$\n",
    "\n",
    "Suppose $\\nabla(a)^2$ is evenly distributed for all $a$. Then this fraction boils down to $b = \\mathbb{E}_{a\\sim \\pi} \\left[Q^\\pi(a)\\right]$, which means $b(s) = V^\\pi(s)$. \n",
    "\n",
    "But there is no reason for $\\nabla(a)^2$ is evenly distributed for all $a$. The optimal baseline $b(s)$ is a weighted average across actions of $Q^\\pi(s,a)$ but with actions sampled according to a distribution which depends both on $\\pi(a|s)$ and $\\nabla_\\theta \\log\\pi(a|s)$. In other words: it's almost $V^\\pi(s)$ but instead of weighting every action with $\\pi(a|s)$, it is additionally weighted by the norm of the gradient of the policy's log probabilities."
   ]
  },
  {
   "cell_type": "markdown",
   "id": "6815ff92-f505-4a2c-9443-41a9a770e3fe",
   "metadata": {},
   "source": [
    "**The value function as a baseline**\n",
    "\n",
    "Although it is not optimal, a close enough choice for a baseline is the policy's value function $V^\\pi$. This introduces an *advantage* estimation problem within policy gradient algorithms, where the advantage is the function defined as:$$A^\\pi(s,a) = Q^\\pi(s,a) - V^\\pi(s).$$\n",
    "\n",
    "Remember that $Q^\\pi(s,a) = \\mathbb{E}_{s'\\sim p(s,a)} [r(s,a,s') + \\gamma V^\\pi(s')]$. So, given a sample $(s,a,r,s')$, a sample estimate of the advantage function is $r + \\gamma V^\\pi(s') - V^\\pi(s)$. So learning $V^\\pi$ provides a way to obtain sample estimates of the advantage function.\n",
    "\n",
    "This yields the advantage actor critic algorithm:\n",
    "<div class=\"alert alert-success\">\n",
    "\n",
    "**Advantage actor-critic:**\n",
    "$$\\tilde{\\nabla}_\\theta J(\\theta) = \\mathbb{E}_{\\substack{s\\sim\\rho^\\pi \\\\ a\\sim \\pi}} \\left[ A_w(s,a) \\nabla_\\theta \\log\\pi(a|s)\\right]$$\n",
    "$$\\tilde{\\nabla}_\\theta J(\\theta) = \\mathbb{E}_{\\substack{s\\sim\\rho^\\pi \\\\ a\\sim \\pi}} \\left[ \\mathbb{E}_{s'\\sim p(s,a)} \\left[r(s,a,s') + \\gamma V_w(s') - V_w(s)\\right] \\nabla_\\theta \\log\\pi(a|s)\\right]$$\n",
    "</div>"
   ]
  },
  {
   "cell_type": "markdown",
   "id": "8daa9795-dd0b-4912-8b62-3b7ed16d7c79",
   "metadata": {},
   "source": [
    "Remark that the temporal difference at each time step $\\delta = r + \\gamma V^\\pi(s') - V^\\pi(s)$ is an estimate of the advantage $A^\\pi(s,a)$. Using this remark, a simple one-step advantage actor-critic method based on TD(0) and a value function $V_w$ goes as follows:\n",
    "1. In $s$, draw $a \\sim \\pi$\n",
    "2. Observe $r, s'$\n",
    "3. Compute $\\delta = r + \\gamma V_w(s') - V_w(s)$\n",
    "4. Update critic's parameters (TD(0) step) $w \\leftarrow w + \\alpha \\delta \\nabla_w V_w(s)$\n",
    "5. Update actor's parameters (policy gradient theorem) $\\theta \\leftarrow \\theta + \\alpha \\delta \\nabla_\\theta \\log \\pi(a|s)$\n",
    "6. $s\\leftarrow s'$ and repeat\n",
    "\n",
    "This directly translates into a batch algorithm:\n",
    "1. Sample trajectories $\\{s_t,a_t,r_t,s'_t\\}$ from $\\pi$\n",
    "2. Fit $V_w$ to the (bootstrapped) returns $r_t + \\gamma V_w(s'_t)$\n",
    "3. Get advantage $A(s_t,a_t) = r_t + \\gamma V_w(s'_t) - V_w(s_t)$\n",
    "4. Update policy using ascent direction $\\sum_t A(s_t,a_t) \\nabla_\\theta \\log \\pi(a_t|s_t)$\n",
    "\n",
    "An interesting feature of this algorithm is that it does not require to store experience samples from past policies. Since fitting of $V_w$ is an on-policy problem, it operates on the last collected batch of samples and does not retain the experience replay buffers we encountered with ADP methods.\n",
    "\n",
    "Overfitting of $V_w$ to the samples it is trained upon is not an issue since $V_w$ will only ever be evaluated on these same samples.\n",
    "\n",
    "To reduce the bias in learning $V_w$, instead of one-step targets $r_t + \\gamma V_w(s'_t)$, one can store and use n-step returns $\\sum_{t'=t}^{t+n-1} \\gamma^{t'-t} r_{t'} + \\gamma^{n} V_w(s'_{t+n-1})$ for each $s_i$."
   ]
  },
  {
   "cell_type": "markdown",
   "id": "514bc5cb-278a-4a72-a51f-51ba17acf2c0",
   "metadata": {},
   "source": [
    "## A2C: Deep Advantage Actor-Critic\n",
    "\n",
    "In 2016, Mnih et al. introduced a set of algorithms using asynchronous environments in the **[Asynchronous Methods for Deep Reinforcement Learning](https://arxiv.org/abs/1602.01783)** paper. Among these methods, one is called A3C for Asynchronous Advantage Actor-Critic. \n",
    "In a nutshell, A3C is an advantage actor-critic method where multiple policy workers in parallel environments independently update a global value function. One supposed key benefit of having asynchronous actors was to promote exploration of the state space. It later turned out, the full asynchronicity of independent policies did not bring a significant performance advantage while inducing some computational overhead. A2C is A3C's little sibling, using a single (hence synchronous) policy.\n",
    "\n",
    "At each policy update step, A2C runs a number of rollouts with $\\pi_\\theta$, collecting samples.\n",
    "\n",
    "It uses bootstrapped Monte Carlo returns to estimate the advantage in each state-action pair:\n",
    "$$A(s_t,a_t;w) = \\sum_{t'=t}^{T-1} \\gamma^{t'-t} r_{t'} + \\gamma^{T-t} V_w(s_{T}) - V_w(s_t),$$\n",
    "where $T$ is the termination time of a rollout.\n",
    "\n",
    "The value function learning takes a gradient step to minimize:\n",
    "$$L(w) = \\sum_t A(s_t,a_t;w)^2.$$\n",
    "\n",
    "The policy learning step takes a gradient step to maximize:\n",
    "$$L(\\theta)=\\sum_t \\left[ A(s_t,a_t;w) \\nabla_\\theta \\log \\pi_\\theta(a_t|s_t) + \\beta \\nabla_\\theta \\mathcal{H}(\\pi_\\theta(s_t) \\right].$$\n",
    "The first term in this sum is the usual policy gradient. The second one is the entropy of the policy. The intention is to promote exploration by retaining randomness in the policy.\n",
    "\n",
    "So, in short, A2C's pseudo code is:\n",
    "1. Collect trajectories $\\{s_t,a_t,r_t,s'_t\\}$ from $\\pi$\n",
    "2. Define $A(s_t,a_t;w) = \\sum_{t'=t}^{T-1} \\gamma^{t'-t} r_{t'} + \\gamma^{T-t} V_w(s_{t+T}) - V_w(s_t)$\n",
    "3. Take a gradient descent step on $L(w)$ and a gradient ascent step on $L(\\theta)$.\n",
    "\n",
    "<div class=\"alert alert-warning\">\n",
    "    \n",
    "**Exercise:**  \n",
    "Declare a critic network.\n",
    "</div>"
   ]
  },
  {
   "cell_type": "code",
   "execution_count": 2,
   "id": "4b99bdc1-fa2c-4fe0-b670-42c3d44b471d",
   "metadata": {},
   "outputs": [],
   "source": [
    "import torch\n",
    "import torch.nn as nn\n",
    "import torch.nn.functional as F\n",
    "from torch.distributions import Categorical\n",
    "\n",
    "device = torch.device(\"cuda\" if torch.cuda.is_available() else \"cpu\")\n",
    "\n",
    "class valueNetwork(nn.Module):\n",
    "    def __init__(self, env):\n",
    "        super().__init__()\n",
    "        state_dim = env.observation_space.shape[0]\n",
    "        n_action = env.action_space.n\n",
    "        self.fc1 = nn.Linear(state_dim, 128)\n",
    "        self.fc2 = nn.Linear(128, 1)\n",
    "\n",
    "    def forward(self, x):\n",
    "        if x.dim() == 1:\n",
    "            x = x.unsqueeze(dim=0)\n",
    "        x = F.relu(self.fc1(x))\n",
    "        return self.fc2(x)"
   ]
  },
  {
   "cell_type": "markdown",
   "id": "f171a971-6013-4701-bcf1-369f5663118a",
   "metadata": {},
   "source": [
    "<div class=\"alert alert-warning\">\n",
    "    \n",
    "**Exercise:**  \n",
    "Implement an A2C algorithm.\n",
    "</div>"
   ]
  },
  {
   "cell_type": "code",
   "execution_count": 14,
   "id": "6c5078d5-8092-47ad-84ac-d3e99dc19926",
   "metadata": {},
   "outputs": [],
   "source": [
    "import numpy as np\n",
    "import torch\n",
    "import torch.nn as nn\n",
    "import torch.nn.functional as F\n",
    "from tqdm import trange\n",
    "\n",
    "class a2c_agent:\n",
    "    def __init__(self, config, policy_network, value_network):\n",
    "        self.device = \"cuda\" if next(policy_network.parameters()).is_cuda else \"cpu\"\n",
    "        self.scalar_dtype = next(policy_network.parameters()).dtype\n",
    "        self.policy = policy_network\n",
    "        self.value = value_network\n",
    "        self.gamma = config['gamma'] if 'gamma' in config.keys() else 0.99\n",
    "        lr = config['learning_rate'] if 'learning_rate' in config.keys() else 0.001\n",
    "        self.optimizer = torch.optim.Adam(list(self.policy.parameters()) + list(self.value.parameters()),lr=lr)\n",
    "        self.nb_episodes = config['nb_episodes'] if 'nb_episodes' in config.keys() else 1\n",
    "        self.entropy_coefficient = config['entropy_coefficient'] if 'entropy_coefficient' in config.keys() else 0.001\n",
    "\n",
    "    def sample_action(self, x):\n",
    "        probabilities = self.policy(torch.as_tensor(x))\n",
    "        action_distribution = Categorical(probabilities)\n",
    "        action = action_distribution.sample()\n",
    "        log_prob = action_distribution.log_prob(action)\n",
    "        entropy = action_distribution.entropy()\n",
    "        return action.item(), log_prob, entropy\n",
    "    \n",
    "    def one_gradient_step(self, env):\n",
    "        # run trajectories until done\n",
    "        episodes_sum_of_rewards = []\n",
    "        log_probs = []\n",
    "        returns = []\n",
    "        values = []\n",
    "        entropies = []\n",
    "        for ep in range(self.nb_episodes):\n",
    "            x,_ = env.reset()\n",
    "            rewards = []\n",
    "            episode_cum_reward = 0\n",
    "            while(True):\n",
    "                a, log_prob, entropy = self.sample_action(x)\n",
    "                y,r,d,trunc,_ = env.step(a)\n",
    "                values.append(self.value(torch.as_tensor(x)).squeeze(dim=0))\n",
    "                log_probs.append(log_prob)\n",
    "                entropies.append(entropy)\n",
    "                rewards.append(r)\n",
    "                episode_cum_reward += r\n",
    "                x=y\n",
    "                if d or trunc:\n",
    "                    # compute returns-to-go\n",
    "                    new_returns = []\n",
    "                    G_t = torch.tensor([0])\n",
    "                    if trunc:\n",
    "                        G_t = self.value(torch.as_tensor(x)).squeeze(dim=0)\n",
    "                    for r in reversed(rewards):\n",
    "                        G_t = r + self.gamma * G_t\n",
    "                        new_returns.append(G_t)\n",
    "                    new_returns = list(reversed(new_returns))\n",
    "                    returns.extend(new_returns)\n",
    "                    episodes_sum_of_rewards.append(episode_cum_reward)\n",
    "                    break\n",
    "        # make loss        \n",
    "        returns = torch.cat(returns)\n",
    "        values = torch.cat(values)\n",
    "        log_probs = torch.cat(log_probs)\n",
    "        entropies = torch.cat(entropies)\n",
    "        advantages = returns - values\n",
    "        pg_loss = -(advantages.detach() * log_probs).mean()\n",
    "        entropy_loss = -entropies.mean()\n",
    "        critic_loss = advantages.pow(2).mean()\n",
    "        loss = pg_loss + critic_loss + self.entropy_coefficient * entropy_loss\n",
    "        # gradient step\n",
    "        self.optimizer.zero_grad()\n",
    "        loss.backward()\n",
    "        self.optimizer.step()\n",
    "        return np.mean(episodes_sum_of_rewards)\n",
    "\n",
    "    def train(self, env, nb_rollouts):\n",
    "        avg_sum_rewards = []\n",
    "        for ep in trange(nb_rollouts):\n",
    "            avg_sum_rewards.append(self.one_gradient_step(env))\n",
    "        return avg_sum_rewards"
   ]
  },
  {
   "cell_type": "code",
   "execution_count": 16,
   "id": "cd5ea381-f556-4177-8864-228ffcf17e6d",
   "metadata": {},
   "outputs": [
    {
     "name": "stderr",
     "output_type": "stream",
     "text": [
      "100%|██████████| 50/50 [00:40<00:00,  1.23it/s]\n"
     ]
    },
    {
     "data": {
      "text/plain": [
       "[<matplotlib.lines.Line2D at 0x7fb9988cc710>]"
      ]
     },
     "execution_count": 16,
     "metadata": {},
     "output_type": "execute_result"
    },
    {
     "data": {
      "image/png": "[encoded data removed]",
      "text/plain": [
       "<Figure size 640x480 with 1 Axes>"
      ]
     },
     "metadata": {},
     "output_type": "display_data"
    }
   ],
   "source": [
    "import gymnasium as gym\n",
    "import matplotlib.pyplot as plt\n",
    "\n",
    "#env = gym.make(\"LunarLander-v2\", render_mode=\"rgb_array\")\n",
    "env = gym.make('CartPole-v1', render_mode=\"rgb_array\")\n",
    "config = {'gamma': .99,\n",
    "          'learning_rate': 0.01,\n",
    "          'nb_episodes': 10,\n",
    "          'entropy_coefficient': 1e-3\n",
    "         }\n",
    "\n",
    "pi = policyNetwork(env)\n",
    "V  = valueNetwork(env)\n",
    "agent = a2c_agent(config, pi, V)\n",
    "returns = agent.train(env,50)\n",
    "plt.plot(returns)"
   ]
  },
  {
   "cell_type": "code",
   "execution_count": 17,
   "id": "3aac837a-0fe2-4a07-9df1-e0d29e642f1d",
   "metadata": {},
   "outputs": [
    {
     "name": "stdout",
     "output_type": "stream",
     "text": [
      "Moviepy - Building video /home/emmanuel/git_repos/RLclass_MVA/notebooks/videos/a2c_policy-episode-0.mp4.\n",
      "Moviepy - Writing video /home/emmanuel/git_repos/RLclass_MVA/notebooks/videos/a2c_policy-episode-0.mp4\n",
      "\n"
     ]
    },
    {
     "name": "stderr",
     "output_type": "stream",
     "text": [
      "                                                               "
     ]
    },
    {
     "name": "stdout",
     "output_type": "stream",
     "text": [
      "Moviepy - Done !\n",
      "Moviepy - video ready /home/emmanuel/git_repos/RLclass_MVA/notebooks/videos/a2c_policy-episode-0.mp4\n"
     ]
    },
    {
     "name": "stderr",
     "output_type": "stream",
     "text": [
      "\r"
     ]
    }
   ],
   "source": [
    "import gymnasium as gym\n",
    "from gymnasium.utils.save_video import save_video\n",
    "\n",
    "#test_env = gym.make(\"LunarLander-v2\", render_mode=\"rgb_array_list\")\n",
    "test_env = gym.make(\"CartPole-v1\", render_mode=\"rgb_array_list\")\n",
    "s,_ = test_env.reset()\n",
    "with torch.no_grad():\n",
    "    for t in range(1000):\n",
    "        a = pi.sample_action(torch.as_tensor(s))\n",
    "        s2,r,d,trunc,_ = test_env.step(a)\n",
    "        s = s2\n",
    "        if d:\n",
    "            break\n",
    "\n",
    "save_video(test_env.render(), \"videos\", fps=test_env.metadata[\"render_fps\"], name_prefix=\"a2c_policy\")"
   ]
  },
  {
   "cell_type": "code",
   "execution_count": 18,
   "id": "c871de74-b3af-49dc-85bd-d0dc5a655915",
   "metadata": {},
   "outputs": [
    {
     "data": {
      "text/html": [
       "<video src=\"videos/a2c_policy-episode-0.mp4\" controls  >\n",
       "      Your browser does not support the <code>video</code> element.\n",
       "    </video>"
      ],
      "text/plain": [
       "<IPython.core.display.Video object>"
      ]
     },
     "execution_count": 18,
     "metadata": {},
     "output_type": "execute_result"
    }
   ],
   "source": [
    "from IPython.display import Video\n",
    "Video(\"videos/a2c_policy-episode-0.mp4\")"
   ]
  },
  {
   "cell_type": "markdown",
   "id": "773ca382-930f-4b18-9f7b-62c12253612a",
   "metadata": {},
   "source": [
    "# Summary\n",
    "\n",
    "In this chapter, we have considered the problem of direct policy search. We have:\n",
    "- cast this problem as a gradient ascent one,\n",
    "- introduced the policy gradient theorem,\n",
    "- derived its direct application as the REINFORCE algorithm,\n",
    "- tackled the problem of gradient variance through the introduction of baselines.\n",
    "- Since baselines required estimating a value function, we have written actor-critic algorithms,\n",
    "- and in particular we have introduced the recent A2C algorithm.\n",
    "\n",
    "Of course there are still lots of things to cover in the literature on policy gradients and more generally policy search. The homework will guide you through some of these important topics, which should provide you with an up-to-date view on the current state-of-the-art in direct policy search."
   ]
  },
  {
   "cell_type": "markdown",
   "id": "c43c7b87-6d9a-4a2b-ac8e-1c942d251978",
   "metadata": {},
   "source": [
    "# Homework\n",
    "\n",
    "The exercises below are here to help you play with the concepts introduced above, to better grasp them. They also introduce additional important notions. They are not optional to reach the class goals. Often, the provided answer reaches out further than the plain question asked and provides comments, additional insights, or external references."
   ]
  },
  {
   "cell_type": "markdown",
   "id": "52f87e89-dbbc-4b1a-af70-c339ce26d137",
   "metadata": {},
   "source": [
    "## Running rollouts in parallel\n",
    "\n",
    "One key feature of policy gradient algorithms is that they are on-policy: they require the data to have been collected by the current policy, and discard this data once a gradient step is taken. Although this might seem sample inefficient, it can turn out to be an acceptable compromise if the policy gradient steps take the policy towards good returns quickly enough.\n",
    "\n",
    "A direct consequence of this on-policy property, is that policy gradients don't use experience replay buffers. Instead, they can take advantage of parallel computation to collect samples. We saw that running several rollouts with the same policy greatly helped in reducing the gradient's variance.\n",
    "\n",
    "<div class=\"alert alert-warning\">\n",
    "    \n",
    "**Exercise:**  \n",
    "Gymnasium provides a [vectorized environments](https://gymnasium.farama.org/api/vector/) class, which enables running multiple independent copies of the same environment in parallel, for a certain number of steps. Modify the REINFORCE and A2C classes to use a vector of environments.\n",
    "</div>"
   ]
  },
  {
   "cell_type": "code",
   "execution_count": null,
   "id": "5452a578-77e7-4b2e-9a2a-677391d41f71",
   "metadata": {},
   "outputs": [],
   "source": [
    "# DEMO CODE OF VECTORIZED ENVIRONMENTS\n",
    "import gymnasium as gym\n",
    "import numpy as np\n",
    "\n",
    "## Make vector env and simulate one step\n",
    "#envs = gym.vector.make(\"CartPole-v1\", num_envs=10)\n",
    "envs = gym.make_vec(\"CartPole-v1\", num_envs=10)\n",
    "## Reset all environments\n",
    "states, _ = envs.reset(seed=42)\n",
    "#print(states)\n",
    "## Choose actions\n",
    "actions = envs.action_space.sample()\n",
    "#print(actions)\n",
    "## Step\n",
    "next_states, rewards, termination, truncation, infos = envs.step(actions)\n",
    "#print(observations)\n",
    "#print(infos)\n",
    "\n",
    "## Warning, when an environment terminates or is truncated, it automatically resets \n",
    "## so that you can keep calling .step() and it does not wait idly until others have \n",
    "## finished.\n",
    "## When this happens, the next state returned by .step() is the result of the reset\n",
    "## and the last state of the previous trajectory is accessed through the \n",
    "## infos['final_observation'] variable.\n",
    "## This also means you cannot use the termination or truncation flags anymore to run \n",
    "## post-trajectories computations.\n",
    "\n",
    "states = next_states\n",
    "for t in range(50):\n",
    "    actions = envs.action_space.sample()\n",
    "    next_states, rewards, termination, truncation, infos = envs.step(actions)\n",
    "    if any(termination):\n",
    "        index = np.where(termination == True)\n",
    "        print(\"Termination vector:\", termination, index)\n",
    "        index = index[0][0]\n",
    "        print(\"Env\", index, \"has been reset! Here is the last transition:\")\n",
    "        print(\"starting state =\", states[index])\n",
    "        print(\"ending state   =\", infos['final_observation'][index])\n",
    "        print(\"reset state    =\", next_states[index])\n",
    "        break\n",
    "    states = next_states"
   ]
  },
  {
   "cell_type": "code",
   "execution_count": null,
   "id": "0fda50b5-2a62-4dd3-a8ec-374db6cac8d0",
   "metadata": {},
   "outputs": [],
   "source": [
    "#%load solutions/no_solution_yet.py"
   ]
  },
  {
   "cell_type": "code",
   "execution_count": null,
   "id": "fbf86032-a614-4552-a7f6-324e7be08002",
   "metadata": {},
   "outputs": [],
   "source": [
    "import gymnasium as gym\n",
    "import matplotlib.pyplot as plt\n",
    "\n",
    "#env = gym.make(\"LunarLander-v2\", render_mode=\"rgb_array\")\n",
    "env = gym.make('CartPole-v1', render_mode=\"rgb_array\")\n",
    "config = {'gamma': .99,\n",
    "          'learning_rate': 0.01,\n",
    "          'nb_episodes': 10,\n",
    "          'nb_sim_steps_per_update': 500\n",
    "         }\n",
    "\n",
    "pi = policyNetwork(env)\n",
    "agent = reinforce_agent(config, pi)\n",
    "returns = agent.train(env,50)\n",
    "plt.plot(returns)"
   ]
  },
  {
   "cell_type": "markdown",
   "id": "3e06d3e2-608b-4823-b6b2-a4238a7e8c5d",
   "metadata": {},
   "source": [
    "## Policy gradients on continuous action domains\n",
    "\n",
    "REINFORCE and A2C with Gaussian policies"
   ]
  },
  {
   "cell_type": "markdown",
   "id": "a6a91884-4238-4c04-87fb-fc33d6c6040e",
   "metadata": {},
   "source": [
    "## Policy gradients for the finite horizon criterion\n",
    "\n",
    "Derive the PG for the total reward, finite horizon criterion.\n",
    "\n",
    "Implement a REINFORCE algorithm."
   ]
  },
  {
   "cell_type": "markdown",
   "id": "7b11d3b9-3790-4df0-8ec5-7ea7ed265428",
   "metadata": {},
   "source": [
    "## Generalized advantage estimation\n",
    "\n",
    "[Generalized Advantage Estimation (Schulman et al., 2016)](https://arxiv.org/abs/1506.02438)"
   ]
  },
  {
   "cell_type": "markdown",
   "id": "dc1e2ac1-5685-41f7-b3cd-114cc3c2212a",
   "metadata": {},
   "source": [
    "## From off-policy policy gradients to TRPO\n",
    "\n",
    "[Trust Region Policy Optimization](https://arxiv.org/abs/1502.05477)\n",
    "\n",
    "Policy gradient methods are intrinsically on-policy algorithms, as states and actions need to be sampled according to $\\rho^\\pi$ and $\\pi$ respectively. But could we make an off-policy version of this gradient estimator?\n",
    "\n",
    "More precisely, could we use data collected by some policy $\\pi$, and the corresponding advantage function $A^{\\pi}$, to still compute the gradient of $J(\\theta')$?\n",
    "\n",
    "In this section, we try to write an optimization problem whose gradient can be used to optimize $J(\\theta')$ while using samples from $\\pi_\\theta$.\n",
    "\n",
    "**$J(\\theta')$ as an expression of $\\pi$ and $A^\\pi$**\n",
    "\n",
    "Recall that:\n",
    "$$J(\\theta) = \\mathbb{E}_{s_0 \\sim p_0} \\left[ V^\\pi(s_0) \\right].$$\n",
    "\n",
    "One can remark that this is also:\n",
    "$$J(\\theta) = \\mathbb{E}_{\\substack{s_0 \\sim p_0\\\\ s_{t>0}\\sim p_t(\\cdot|\\pi')\\\\ a_t\\sim \\pi'}} \\left[ V^\\pi(s_0) \\right].$$\n",
    "\n",
    "Since the starting state distribution is assumed fixed, we can write:\n",
    "$$J(\\theta) = \\mathbb{E}_{\\substack{s_t\\sim p_t(\\cdot|\\pi')\\\\ a_t\\sim \\pi'}} \\left[ V^\\pi(s_0) \\right].$$\n",
    "\n",
    "It is tempting to compare this expression of $J(\\theta)$ which artificially uses $\\pi'$, with that of $J(\\theta')$ and make the advantage function of $\\pi$ appear, with the intention to write $J(\\theta')$ as an expression of $J(\\theta)$ and this advantage function. \n",
    "\n",
    "Let's first remark that:\n",
    "\\begin{align*}\n",
    "J(\\theta) &= \\mathbb{E}_{\\substack{s_t\\sim p_t(\\cdot|\\pi')\\\\ a_t\\sim \\pi'}} \\left[ \\sum_{t=0}^\\infty \\gamma^t V^\\pi(s_t) - \\sum_{t=1}^\\infty \\gamma^t V^\\pi(s_t) \\right],\\\\\n",
    " &= \\mathbb{E}_{\\substack{s_t\\sim p_t(\\cdot|\\pi')\\\\ a_t\\sim \\pi'}} \\left[ \\sum_{t=0}^\\infty \\gamma^t \\left( V^\\pi(s_t) - \\gamma V^\\pi(s_{t+1}) \\right) \\right].\n",
    "\\end{align*}\n",
    "\n",
    "Then recall that $J(\\theta') = \\mathbb{E}_{\\substack{s_t\\sim p_t(\\cdot|\\pi')\\\\ a_t\\sim \\pi'}} \\left[ \\gamma^t r(s_t,a_t) \\right]$. So:\n",
    "\\begin{align*}\n",
    "J(\\theta') - J(\\theta) &= \\mathbb{E}_{\\substack{s_t\\sim p_t(\\cdot|\\pi')\\\\ a_t\\sim \\pi'}} \\left[ \\sum_{t=0}^\\infty \\gamma^t \\left( r(s_t, a_t) + \\gamma V^\\pi(s_{t+1}) - V^\\pi(s_t) \\right) \\right],\\\\\n",
    " &= \\mathbb{E}_{\\substack{s_t\\sim p_t(\\cdot|\\pi')\\\\ a_t\\sim \\pi'}} \\left[ \\sum_{t=0}^\\infty \\gamma^t A^\\pi(s_t,a_t) \\right].\n",
    "\\end{align*}\n",
    "\n",
    "In other terms:\n",
    "$$J(\\theta') = J(\\theta) + \\mathbb{E}_{s_t\\sim p_t(\\cdot|\\pi')} \\left[ \\mathbb{E}_{a_t\\sim \\pi'} \\left[ \\sum_{t=0}^\\infty \\gamma^t A^\\pi(s_t,a_t) \\right]\\right].$$\n",
    "\n",
    "We have $J(\\theta')$ as an expression of $A^\\pi$, but we still require sampling according to $\\pi'$. Let us first replace all the $p_t$ with the state occupancy measure:\n",
    "\\begin{align*}\n",
    "J(\\theta') &= J(\\theta) + \\mathbb{E}_{s_t\\sim p_t(\\cdot|\\pi')} \\left[ \\mathbb{E}_{a_t\\sim \\pi'} \\left[ \\sum_{t=0}^\\infty \\gamma^t A^\\pi(s_t,a_t) \\right]\\right]\\\\\n",
    " &= J(\\theta) + \\sum_{t=0}^\\infty \\gamma^t \\mathbb{E}_{s_t\\sim p_t(\\cdot|\\pi')} \\left[ \\mathbb{E}_{a_t\\sim \\pi'} \\left[ A^\\pi(s_t,a_t) \\right]\\right] \\\\\n",
    " &= J(\\theta) + \\mathbb{E}_{s\\sim \\rho^{\\pi'}} \\left[ \\mathbb{E}_{a\\sim \\pi'} \\left[ A^\\pi(s,a) \\right]\\right].\n",
    "\\end{align*}\n",
    "\n",
    "Now we would like to sample according to $\\rho^{\\pi}$ and $\\pi$ instead of $\\rho^{\\pi'}$ and $\\pi'$ so we can use importance sampling:\n",
    "$$J(\\theta') = J(\\theta) + \\mathbb{E}_{s\\sim \\rho^{\\pi}} \\left[ \\mathbb{E}_{a\\sim \\pi} \\left[ \\frac{\\rho^{\\pi'}(s)}{\\rho^{\\pi}(s)} \\frac{\\pi'(a|s)}{\\pi(a|s)} A^\\pi(s,a) \\right]\\right].$$\n",
    "\n",
    "This is true as long as the distributions due to $\\pi$ have non-zero mass where the distributions due to $\\pi'$ have non-zero mass.\n",
    "\n",
    "So in theory, we could calculate our policy score $J(\\theta')$ if we knew the ratio $\\frac{\\rho^{\\pi'}(s)}{\\rho^{\\pi}(s)}$. But it is very unclear how to actually compute this ratio.\n",
    "\n",
    "One interesting remark is that neural network updates make very small gradient steps on the policy parameters. So it is likely that between two consecutive gradient steps, the policy does not change much, and hopefully the state distribution does no change much either. In that case, we could neglect this ratio and write $\\frac{\\rho^{\\pi'}(s)}{\\rho^{\\pi}(s)} \\approx 1$, which would enable keeping samples collected by $\\pi$ in memory and re-using them in:\n",
    "$$J(\\theta') \\approx \\mathbb{E}_{s\\sim\\rho^{\\pi}} \\mathbb{E}_{a\\sim \\pi} \\left[ \\frac{\\pi'(a|s)}{\\pi(a|s)}A^\\pi(s,a)\\right].$$\n",
    "\n",
    "**When is $\\frac{\\rho^{\\pi'}(s)}{\\rho^{\\pi}(s)} \\approx 1$?**\n",
    "\n",
    "**The constrained optimization problem and its Lagrangian**\n",
    "\n",
    "**Natural policy gradients**\n",
    "\n",
    "**TRPO**"
   ]
  },
  {
   "cell_type": "markdown",
   "id": "18138b35-51dc-4f17-98aa-8db737a218d2",
   "metadata": {},
   "source": [
    "## PPO\n",
    "\n",
    "[Proximal Policy Optimization Algorithms](https://arxiv.org/abs/1707.06347)"
   ]
  },
  {
   "cell_type": "markdown",
   "id": "9d725ead-ea20-495e-95de-a03c771ce2f9",
   "metadata": {},
   "source": [
    "## Gradient-free policy search\n",
    "\n",
    "[Evolution Strategies as a Scalable Alternative to Reinforcement Learning](https://arxiv.org/abs/1703.03864)  \n",
    "[Back to Basics: Benchmarking Canonical Evolution Strategies for Playing Atari](https://arxiv.org/abs/1802.08842)"
   ]
  }
 ],
 "metadata": {
  "kernelspec": {
   "display_name": "Python 3 (ipykernel)",
   "language": "python",
   "name": "python3"
  },
  "language_info": {
   "codemirror_mode": {
    "name": "ipython",
    "version": 3
   },
   "file_extension": ".py",
   "mimetype": "text/x-python",
   "name": "python",
   "nbconvert_exporter": "python",
   "pygments_lexer": "ipython3",
   "version": "3.12.7"
  }
 },
 "nbformat": 4,
 "nbformat_minor": 5
}
